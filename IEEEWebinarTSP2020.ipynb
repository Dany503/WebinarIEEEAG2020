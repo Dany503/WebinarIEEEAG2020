{
  "nbformat": 4,
  "nbformat_minor": 0,
  "metadata": {
    "colab": {
      "name": "IEEEWebinarTSP2020.ipynb",
      "provenance": []
    },
    "kernelspec": {
      "name": "python3",
      "display_name": "Python 3"
    }
  },
  "cells": [
    {
      "cell_type": "markdown",
      "metadata": {
        "id": "f1PsVMC53Dn-",
        "colab_type": "text"
      },
      "source": [
        "Resolución del problema del viajero o TSP utilizando deap\n",
        "https://deap.readthedocs.io/en/master/\n",
        "\n",
        "En primer lugar, debemos intalar la librería:\n"
      ]
    },
    {
      "cell_type": "code",
      "metadata": {
        "id": "cP2FzEkR26MX",
        "colab_type": "code",
        "outputId": "13fd304b-fefa-4a88-9031-65c43eea217e",
        "colab": {
          "base_uri": "https://localhost:8080/",
          "height": 118
        }
      },
      "source": [
        "!pip install deap"
      ],
      "execution_count": 2,
      "outputs": [
        {
          "output_type": "stream",
          "text": [
            "Collecting deap\n",
            "\u001b[?25l  Downloading https://files.pythonhosted.org/packages/0a/eb/2bd0a32e3ce757fb26264765abbaedd6d4d3640d90219a513aeabd08ee2b/deap-1.3.1-cp36-cp36m-manylinux2010_x86_64.whl (157kB)\n",
            "\r\u001b[K     |██                              | 10kB 21.3MB/s eta 0:00:01\r\u001b[K     |████▏                           | 20kB 1.8MB/s eta 0:00:01\r\u001b[K     |██████▎                         | 30kB 2.6MB/s eta 0:00:01\r\u001b[K     |████████▍                       | 40kB 1.7MB/s eta 0:00:01\r\u001b[K     |██████████▍                     | 51kB 2.1MB/s eta 0:00:01\r\u001b[K     |████████████▌                   | 61kB 2.5MB/s eta 0:00:01\r\u001b[K     |██████████████▋                 | 71kB 2.9MB/s eta 0:00:01\r\u001b[K     |████████████████▊               | 81kB 2.3MB/s eta 0:00:01\r\u001b[K     |██████████████████▊             | 92kB 2.5MB/s eta 0:00:01\r\u001b[K     |████████████████████▉           | 102kB 2.8MB/s eta 0:00:01\r\u001b[K     |███████████████████████         | 112kB 2.8MB/s eta 0:00:01\r\u001b[K     |█████████████████████████       | 122kB 2.8MB/s eta 0:00:01\r\u001b[K     |███████████████████████████▏    | 133kB 2.8MB/s eta 0:00:01\r\u001b[K     |█████████████████████████████▏  | 143kB 2.8MB/s eta 0:00:01\r\u001b[K     |███████████████████████████████▎| 153kB 2.8MB/s eta 0:00:01\r\u001b[K     |████████████████████████████████| 163kB 2.8MB/s \n",
            "\u001b[?25hRequirement already satisfied: numpy in /usr/local/lib/python3.6/dist-packages (from deap) (1.18.2)\n",
            "Installing collected packages: deap\n",
            "Successfully installed deap-1.3.1\n"
          ],
          "name": "stdout"
        }
      ]
    },
    {
      "cell_type": "markdown",
      "metadata": {
        "id": "0lvNPtq94L2G",
        "colab_type": "text"
      },
      "source": [
        "**Importamos las liberías necesarias:**\n",
        "1. random: números pseudoaleatorios\n",
        "2. numpy: arrays\n",
        "3. maplotlib.pyplot: visualizar los resultados\n",
        "4. deap.base: incluye las clases base de deap. En concreto dos son importantes en nuestro ejemplo, base.Fitness y base.Toolbox.\n",
        "5. deap.creator: permite crear clases nuevas.\n",
        "6. deap.tools: herramientas para implementar los algoritmos genéticos: operadores genéticos (selección, cruce y mutación), hallofFame, estadística, registro de evolución, etc.\n",
        "7. deap.alorihtms: incluye implementaciones completas de algoritmos genéticos, nosotros vamos a utilizar eaSimple. "
      ]
    },
    {
      "cell_type": "code",
      "metadata": {
        "id": "EMAr9Roh3qc9",
        "colab_type": "code",
        "colab": {}
      },
      "source": [
        "import random\n",
        "import numpy\n",
        "import matplotlib.pyplot as plt\n",
        "from deap import base\n",
        "from deap import creator\n",
        "from deap import tools\n",
        "from deap import algorithms"
      ],
      "execution_count": 0,
      "outputs": []
    },
    {
      "cell_type": "markdown",
      "metadata": {
        "id": "lWh1zCK3oxf4",
        "colab_type": "text"
      },
      "source": [
        "**Diccionario que contiene los datos del problema:**\n",
        "1. Toursize: número de ciudades.\n",
        "2. OptTour: tour óptimo para este problema. Estamos haciendo trampa :) sabemos la solución, no es lo normal.\n",
        "3. OptDistance: distancia recorrida por el agente para el tour óptimo.\n",
        "4. DistanceMatrix: matriz de distancia."
      ]
    },
    {
      "cell_type": "code",
      "metadata": {
        "id": "KeMYb70k4hUc",
        "colab_type": "code",
        "colab": {}
      },
      "source": [
        "tsp = {\n",
        "\"TourSize\" : 17,\n",
        "\"OptTour\" : [15, 11, 8, 4, 1, 9, 10, 2, 14, 13, 16, 5, 7, 6, 12, 3, 0],\n",
        "\"OptDistance\" : 2085,\n",
        "\"DistanceMatrix\" :\n",
        "    [[0, 633, 257, 91, 412, 150, 80, 134, 259, 505, 353, 324, 70, 211, 268, 246, 121],\n",
        "    [633, 0, 390, 661, 227, 488, 572, 530, 555, 289, 282, 638, 567, 466, 420, 745, 518],\n",
        "    [257, 390, 0, 228, 169, 112, 196, 154, 372, 262, 110, 437, 191, 74, 53, 472, 142],\n",
        "    [91, 661, 228, 0, 383, 120, 77, 105, 175, 476, 324, 240, 27, 182, 239, 237, 84],\n",
        "    [412, 227, 169, 383, 0, 267, 351, 309, 338, 196, 61, 421, 346, 243, 199, 528, 297],\n",
        "    [150, 488, 112, 120, 267, 0, 63, 34, 264, 360, 208, 329, 83, 105, 123, 364, 35],\n",
        "    [80, 572, 196, 77, 351, 63, 0, 29, 232, 444, 292, 297, 47, 150, 207, 332, 29],\n",
        "    [134, 530, 154, 105, 309, 34, 29, 0, 249, 402, 250, 314, 68, 108, 165, 349, 36],\n",
        "    [259, 555, 372, 175, 338, 264, 232, 249, 0, 495, 352, 95, 189, 326, 383, 202, 236],\n",
        "    [505, 289, 262, 476, 196, 360, 444, 402, 495, 0, 154, 578, 439, 336, 240, 685, 390],\n",
        "    [353, 282, 110, 324, 61, 208, 292, 250, 352, 154, 0, 435, 287, 184, 140, 542, 238],\n",
        "    [324, 638, 437, 240, 421, 329, 297, 314, 95, 578, 435, 0, 254, 391, 448, 157, 301],\n",
        "    [70, 567, 191, 27, 346, 83, 47, 68, 189, 439, 287, 254, 0, 145, 202, 289, 55],\n",
        "    [211, 466, 74, 182, 243, 105, 150, 108, 326, 336, 184, 391, 145, 0, 57, 426, 96],\n",
        "    [268, 420, 53, 239, 199, 123, 207, 165, 383, 240, 140, 448, 202, 57, 0, 483, 153],\n",
        "    [246, 745, 472, 237, 528, 364, 332, 349, 202, 685, 542, 157, 289, 426, 483, 0, 336],\n",
        "    [121, 518, 142, 84, 297, 35, 29, 36, 236, 390, 238, 301, 55, 96, 153, 336, 0]]\n",
        "}\n"
      ],
      "execution_count": 0,
      "outputs": []
    },
    {
      "cell_type": "markdown",
      "metadata": {
        "id": "-pcla_zHvrdA",
        "colab_type": "text"
      },
      "source": [
        "Guardamos en dos variables distintas la matriz de distancia y el número de ciudades. Accedemos a los valores mediante las claves del diccionario."
      ]
    },
    {
      "cell_type": "code",
      "metadata": {
        "id": "dsXJcDVv439S",
        "colab_type": "code",
        "colab": {}
      },
      "source": [
        "distance_map = tsp[\"DistanceMatrix\"] \n",
        "IND_SIZE = tsp[\"TourSize\"] "
      ],
      "execution_count": 0,
      "outputs": []
    },
    {
      "cell_type": "markdown",
      "metadata": {
        "id": "IDy4pg3dwNES",
        "colab_type": "text"
      },
      "source": [
        "Creamos la clase que define el fitness de los individuos **FitnessMin**. Este paso en la mayoría de los problemas será muy parecido. Siempre tendremos que heredar de base.Fitness. El atributo **weights** nos dice el número de objetivos de nuestro problema y el tipo (-1.0 para minimizar y 1.0 para maximizar). En este caso es un problema de **minimización** de **un objetivo**. **En deap el caso mono objetivo es un caso particula del multiobjetivo**."
      ]
    },
    {
      "cell_type": "code",
      "metadata": {
        "id": "jI2eaY6C48IW",
        "colab_type": "code",
        "colab": {}
      },
      "source": [
        "creator.create(\"FitnessMin\", base.Fitness, weights=(-1.0,))"
      ],
      "execution_count": 0,
      "outputs": []
    },
    {
      "cell_type": "markdown",
      "metadata": {
        "id": "UZZtRJfCCXKw",
        "colab_type": "text"
      },
      "source": [
        "Ahora creamos la \"plantilla\" del individuo, **el cromosoma**. El individuo **será una lista** (hereda los métodos de la lista), pero tiene el atributo **FitnessMin** creado en la línea anterior. Representar los individuos como lista nos servirá en una gran cantidad de casos (lista de variables del problema).\n"
      ]
    },
    {
      "cell_type": "code",
      "metadata": {
        "id": "buD3--vACTkn",
        "colab_type": "code",
        "outputId": "fb72af5e-fbab-44b8-d91e-38891a6316a3",
        "colab": {
          "base_uri": "https://localhost:8080/",
          "height": 70
        }
      },
      "source": [
        "creator.create(\"Individual\", list, fitness=creator.FitnessMin)"
      ],
      "execution_count": 8,
      "outputs": [
        {
          "output_type": "stream",
          "text": [
            "/usr/local/lib/python3.6/dist-packages/deap/creator.py:141: RuntimeWarning: A class named 'Individual' has already been created and it will be overwritten. Consider deleting previous creation of that class or rename it.\n",
            "  RuntimeWarning)\n"
          ],
          "name": "stderr"
        }
      ]
    },
    {
      "cell_type": "markdown",
      "metadata": {
        "id": "v8YJBopKI06q",
        "colab_type": "text"
      },
      "source": [
        "El objeto toolbox funciona como una \"caja de herramientas\" donde **debemos registrar operaciones que nos hacen falta en el algoritmo genético**. Cosas que debemos registrar:\n",
        "1. Funciones para crear tanto individuos aleatorios como la población inicial.\n",
        "2. Operadores genéticos (selección, cruce y mutación).\n",
        "3. La función de evaluación."
      ]
    },
    {
      "cell_type": "code",
      "metadata": {
        "id": "cml66Cms5Hvw",
        "colab_type": "code",
        "colab": {}
      },
      "source": [
        "toolbox = base.Toolbox()"
      ],
      "execution_count": 0,
      "outputs": []
    },
    {
      "cell_type": "markdown",
      "metadata": {
        "id": "Z1VGgmSmJe8K",
        "colab_type": "text"
      },
      "source": [
        "Comenzamos registrando las funciones que nos permiten generar individuos aleatorios y la población incial. Empezamos por muestra aleatorias de individuos (cromosoma). **No es el individuo completo ya que no tiene el  atributo fitness**."
      ]
    },
    {
      "cell_type": "code",
      "metadata": {
        "id": "LC6nPwlCJawt",
        "colab_type": "code",
        "colab": {}
      },
      "source": [
        "# Generación de un tour aleatorio\n",
        "toolbox.register(\"indices\", random.sample, range(IND_SIZE), IND_SIZE) # aquí debemos registar una función que generar una muestra de individuo"
      ],
      "execution_count": 0,
      "outputs": []
    },
    {
      "cell_type": "markdown",
      "metadata": {
        "id": "EWMC_hOZRbd3",
        "colab_type": "text"
      },
      "source": [
        "Podemos ver la muestra que se crea:"
      ]
    },
    {
      "cell_type": "code",
      "metadata": {
        "id": "kVVssGMLRNq5",
        "colab_type": "code",
        "colab": {
          "base_uri": "https://localhost:8080/",
          "height": 34
        },
        "outputId": "430fbe00-03e7-4281-a771-32b580e7d119"
      },
      "source": [
        "print(toolbox.indices())"
      ],
      "execution_count": 16,
      "outputs": [
        {
          "output_type": "stream",
          "text": [
            "[2, 14, 4, 9, 13, 16, 1, 8, 12, 7, 15, 11, 6, 5, 0, 3, 10]\n"
          ],
          "name": "stdout"
        }
      ]
    },
    {
      "cell_type": "markdown",
      "metadata": {
        "id": "lMapBmPPR1Ow",
        "colab_type": "text"
      },
      "source": [
        "Generamos indivuos aleatorios y población inicial"
      ]
    },
    {
      "cell_type": "code",
      "metadata": {
        "id": "R0NHI3TVPeKI",
        "colab_type": "code",
        "colab": {}
      },
      "source": [
        "# Generación de inviduos y población\n",
        "toolbox.register(\"individual\", tools.initIterate, creator.Individual, toolbox.indices)\n",
        "POP_SIZE=100\n",
        "toolbox.register(\"population\", tools.initRepeat, list, toolbox.individual, POP_SIZE) # "
      ],
      "execution_count": 0,
      "outputs": []
    },
    {
      "cell_type": "markdown",
      "metadata": {
        "id": "IabKG7CnJrsr",
        "colab_type": "text"
      },
      "source": [
        "Vamos a ver cómo funcionan con un par de ejemplos:"
      ]
    },
    {
      "cell_type": "code",
      "metadata": {
        "id": "k-DykMtEJvyS",
        "colab_type": "code",
        "outputId": "4005d780-9892-4aa1-b1a7-bc6fe89ab445",
        "colab": {
          "base_uri": "https://localhost:8080/",
          "height": 50
        }
      },
      "source": [
        "ind = toolbox. individual() # creamos un individuo aleatorio\n",
        "print(ind)\n",
        "print(ind.fitness.values) # en fitness.values se guardará el fitness"
      ],
      "execution_count": 18,
      "outputs": [
        {
          "output_type": "stream",
          "text": [
            "[14, 7, 3, 1, 6, 0, 13, 16, 9, 4, 11, 8, 10, 5, 2, 12, 15]\n",
            "()\n"
          ],
          "name": "stdout"
        }
      ]
    },
    {
      "cell_type": "code",
      "metadata": {
        "id": "XTvyUh-YKP3r",
        "colab_type": "code",
        "outputId": "e67f1124-8576-46ce-d3a0-a1b7ada36bc0",
        "colab": {
          "base_uri": "https://localhost:8080/",
          "height": 54
        }
      },
      "source": [
        "pop = toolbox.population() # creamos una población aleatoria\n",
        "print(pop[:5]) # imprimimos los 5 primeros individuos"
      ],
      "execution_count": 19,
      "outputs": [
        {
          "output_type": "stream",
          "text": [
            "[[13, 1, 3, 5, 0, 15, 9, 2, 8, 7, 4, 11, 10, 16, 12, 14, 6], [8, 16, 14, 13, 0, 15, 6, 5, 2, 11, 12, 9, 10, 4, 7, 1, 3], [13, 0, 8, 3, 15, 5, 11, 14, 12, 10, 7, 1, 4, 6, 9, 16, 2], [0, 3, 1, 16, 4, 10, 6, 2, 12, 7, 9, 14, 13, 8, 11, 5, 15], [11, 13, 9, 15, 14, 10, 7, 8, 3, 5, 2, 0, 4, 1, 16, 12, 6]]\n"
          ],
          "name": "stdout"
        }
      ]
    },
    {
      "cell_type": "markdown",
      "metadata": {
        "id": "SqziBwnpmu9I",
        "colab_type": "text"
      },
      "source": [
        "**Definimos la función objetivo:**\n",
        "1.   En primer lugar calculamos la distancia entre la última ciudad y la primera \n",
        "2.   Recorremos dos listas la vez:\n",
        "*   individual[0:-1], son los elementos del primero al penúltimo\n",
        "*   individual[1:], son los elementos del segundo al último\n",
        "\n",
        "Por lo tanto en cada interación, calculamos la distancia entre dos ciudades consecutivas.\n",
        "**IMPORTANTE:** Siempre debemos devolver una tupla!! \n",
        "\n",
        "\n",
        "\n"
      ]
    },
    {
      "cell_type": "code",
      "metadata": {
        "id": "vaS9T5Ff5O0d",
        "colab_type": "code",
        "colab": {}
      },
      "source": [
        "def evalTSP(individual):\n",
        "    \"\"\" Función objetivo, calcula la distancia que recorre el viajante\"\"\"\n",
        "    # distancia entre el último elemento y el primero\n",
        "    distance = distance_map[individual[-1]][individual[0]]\n",
        "    # distancia entre el resto de ciudades\n",
        "    for gene1, gene2 in zip(individual[0:-1], individual[1:]):\n",
        "        distance += distance_map[gene1][gene2]\n",
        "    return distance,"
      ],
      "execution_count": 0,
      "outputs": []
    },
    {
      "cell_type": "markdown",
      "metadata": {
        "id": "HkJ8rkoHoBOA",
        "colab_type": "text"
      },
      "source": [
        "**Registro de operadores genéticos:**\n",
        "\n",
        "\n",
        "1.   Cruce ordenado.\n",
        "2.   Mutación mediante mezcla de índices.\n",
        "3.   Selección mediante torneo, tamaño del torneo igual a 3 (suele ir bien para la mayoría de problemas). Si tenemos muchas variables podemos probar a aumentarlo un poco.\n",
        "4.   Función de evaluación.\n",
        "\n"
      ]
    },
    {
      "cell_type": "code",
      "metadata": {
        "id": "icsbmTkY5Vmz",
        "colab_type": "code",
        "colab": {}
      },
      "source": [
        "toolbox.register(\"mate\", tools.cxOrdered)                       \n",
        "toolbox.register(\"mutate\", tools.mutShuffleIndexes, indpb=0.05) \n",
        "toolbox.register(\"select\", tools.selTournament, tournsize=3)    \n",
        "toolbox.register(\"evaluate\", evalTSP)                           "
      ],
      "execution_count": 0,
      "outputs": []
    },
    {
      "cell_type": "markdown",
      "metadata": {
        "id": "OBbviLWKK-BK",
        "colab_type": "text"
      },
      "source": [
        "Función que nos permite visualizar la evolución del algoritmo. Recibe como entrada el registro de evolución.\n"
      ]
    },
    {
      "cell_type": "code",
      "metadata": {
        "id": "zsPdFrrl5e8Q",
        "colab_type": "code",
        "colab": {}
      },
      "source": [
        "def plot_evolucion(log):\n",
        "    gen = log.select(\"gen\")\n",
        "    fit_mins = log.select(\"min\")\n",
        "    fit_maxs = log.select(\"max\")\n",
        "    fit_ave = log.select(\"avg\")\n",
        "\n",
        "    fig, ax1 = plt.subplots()\n",
        "    ax1.plot(gen, fit_mins, \"b\")\n",
        "    ax1.plot(gen, fit_maxs, \"r\")\n",
        "    ax1.plot(gen, fit_ave, \"--k\")\n",
        "    ax1.fill_between(gen, fit_mins, fit_maxs, \n",
        "                     where=fit_maxs >= fit_mins, \n",
        "                     facecolor=\"g\", alpha=0.2)\n",
        "    ax1.set_xlabel(\"Generación\")\n",
        "    ax1.set_ylabel(\"Fitness\")\n",
        "    ax1.legend([\"Min\", \"Max\", \"Avg\"])\n",
        "    ax1.set_ylim([2000, 6000])\n",
        "    plt.grid(True)\n",
        "    plt.savefig(\"EvolucionTSP.eps\", dpi=300)"
      ],
      "execution_count": 0,
      "outputs": []
    },
    {
      "cell_type": "markdown",
      "metadata": {
        "id": "bA6C-Isvj6h_",
        "colab_type": "text"
      },
      "source": [
        "En el main configuramos el algoritmo genético. \n",
        "\n",
        "Ajuste de los operadores genéticos:\n",
        "* *CXPB:* probabilidad de cruce\n",
        "* *MUTPB:* probabilidad de mutación\n",
        "\n",
        "Número de generaciones:\n",
        "* *NGEN:* número de generaciones\n",
        "\n",
        "El objeto **hof** almacena el mejor individuo encontrado a lo largo de las generaciones. Le tenemos que p\n",
        "\n",
        "El objeto **stats** calcula las estadísticas de la población en cada generación. Cuando se define le tenemos que decir sobre qué se va a calcular las estadística. A continuación, se deben registrar las funciones estadísticas que se van a aplicar.\n",
        "\n",
        "El objeto **logbook** almacena todas las estadísticas calculadas por generación en un solo objeto.\n",
        "\n",
        "Algoritmo **eaSimple** parámetros que tenemos que pasar:\n",
        "* poblacion (obligatorio)\n",
        "* toolbox (obligatorio)\n",
        "* probabilidad de cruce (obligatorio)\n",
        "* probabilidad de mutación (obligatorio)\n",
        "* número de generaciones (obligatorio)\n",
        "* objeto de estadísticas (opcional)\n",
        "* objeto hallofFame que almacena el mejor individuo (opcional)\n",
        "* Si queremos que se muestre las estádisticas en cada generación, verbose = True (opcional)\n",
        "\n",
        "\n",
        "\n",
        "\n",
        "\n",
        "\n",
        "\n",
        "\n",
        "\n"
      ]
    },
    {
      "cell_type": "code",
      "metadata": {
        "id": "Mn48zop85j8U",
        "colab_type": "code",
        "colab": {}
      },
      "source": [
        "def main():\n",
        "    random.seed(42) # ajuste de la semilla del generador de números aleatorios\n",
        "    CXPB, MUTPB, NGEN = 0.7, 0.3, 120\n",
        "    pop = toolbox.population() # creamos la población inicial \n",
        "    hof = tools.HallOfFame(1) \n",
        "    stats = tools.Statistics(lambda ind: ind.fitness.values) \n",
        "    stats.register(\"avg\", numpy.mean)\n",
        "    stats.register(\"std\", numpy.std)\n",
        "    stats.register(\"min\", numpy.min)\n",
        "    stats.register(\"max\", numpy.max)\n",
        "    logbook = tools.Logbook()     \n",
        "    pop, logbook = algorithms.eaSimple(pop, toolbox, CXPB, MUTPB, NGEN, stats=stats, halloffame=hof, verbose=True)\n",
        "    return hof, logbook"
      ],
      "execution_count": 0,
      "outputs": []
    },
    {
      "cell_type": "markdown",
      "metadata": {
        "id": "KVSESVQWv7JV",
        "colab_type": "text"
      },
      "source": [
        "Lanzamos el algoritmo y mostramos los resultados."
      ]
    },
    {
      "cell_type": "code",
      "metadata": {
        "id": "5l-Ln7nJ5q_K",
        "colab_type": "code",
        "outputId": "d4b04757-cb16-4b27-ce86-2abfd3069068",
        "colab": {
          "base_uri": "https://localhost:8080/",
          "height": 1000
        }
      },
      "source": [
        "best, log = main()\n",
        "print(\"Mejor fitness: %f\" %best[0].fitness.values)\n",
        "print(\"Mejor individuo %s\" %best[0])\n",
        "plot_evolucion(log) # mostamos la evolución"
      ],
      "execution_count": 26,
      "outputs": [
        {
          "output_type": "stream",
          "text": [
            "gen\tnevals\tavg    \tstd    \tmin \tmax \n",
            "0  \t100   \t4728.62\t387.423\t3511\t5461\n",
            "1  \t79    \t4398.68\t373.879\t3511\t5234\n",
            "2  \t77    \t4204.02\t383.752\t3220\t5306\n",
            "3  \t76    \t4036.49\t382.07 \t3220\t5149\n",
            "4  \t90    \t3908.84\t360.576\t3220\t5029\n",
            "5  \t85    \t3724.67\t328.176\t2969\t4747\n",
            "6  \t88    \t3644.59\t404.069\t2873\t4752\n",
            "7  \t81    \t3561.5 \t388.837\t2933\t4777\n",
            "8  \t75    \t3410.91\t371.815\t2716\t4942\n",
            "9  \t76    \t3365.71\t428.956\t2716\t4992\n",
            "10 \t66    \t3263.69\t418.174\t2612\t4568\n",
            "11 \t78    \t3172.67\t409.922\t2546\t4550\n",
            "12 \t82    \t3183.26\t419.272\t2546\t5142\n",
            "13 \t75    \t3079.08\t402.168\t2546\t4476\n",
            "14 \t84    \t3006.46\t392.294\t2529\t4596\n",
            "15 \t74    \t2897.6 \t412.943\t2498\t5163\n",
            "16 \t78    \t2810.34\t371.635\t2459\t4231\n",
            "17 \t81    \t2767.01\t337.917\t2333\t4019\n",
            "18 \t86    \t2780.97\t451.152\t2333\t4890\n",
            "19 \t85    \t2741.42\t340.322\t2333\t4015\n",
            "20 \t80    \t2766.6 \t450.935\t2255\t4615\n",
            "21 \t84    \t2839.02\t505.364\t2255\t5019\n",
            "22 \t75    \t2757.56\t377.2  \t2255\t4344\n",
            "23 \t75    \t2722.48\t406.934\t2255\t4264\n",
            "24 \t80    \t2705.27\t447.942\t2255\t4828\n",
            "25 \t80    \t2579.32\t332.565\t2255\t3506\n",
            "26 \t80    \t2571.67\t460.69 \t2158\t4255\n",
            "27 \t89    \t2618.03\t479.689\t2158\t4107\n",
            "28 \t78    \t2659.92\t508.498\t2158\t4218\n",
            "29 \t74    \t2608.02\t517.562\t2085\t4483\n",
            "30 \t75    \t2534.34\t518.905\t2158\t4744\n",
            "31 \t83    \t2466.8 \t473.604\t2158\t4603\n",
            "32 \t84    \t2531.77\t505.402\t2085\t4315\n",
            "33 \t71    \t2423.11\t398.727\t2085\t3869\n",
            "34 \t77    \t2407.51\t451.785\t2085\t4032\n",
            "35 \t72    \t2375.68\t397.857\t2085\t3713\n",
            "36 \t68    \t2341.2 \t418.537\t2085\t3703\n",
            "37 \t76    \t2304.58\t384.818\t2085\t4073\n",
            "38 \t76    \t2299.43\t427.578\t2085\t4522\n",
            "39 \t74    \t2255.52\t373.77 \t2085\t3616\n",
            "40 \t81    \t2253.67\t400.155\t2085\t4086\n",
            "41 \t86    \t2274.56\t439.896\t2085\t3792\n",
            "42 \t80    \t2200.78\t352.645\t2085\t3826\n",
            "43 \t77    \t2184.8 \t317.141\t2085\t3875\n",
            "44 \t77    \t2247.07\t443.14 \t2085\t4565\n",
            "45 \t72    \t2265.12\t445.053\t2085\t4903\n",
            "46 \t88    \t2245.56\t420.869\t2085\t4367\n",
            "47 \t81    \t2197.74\t353.831\t2085\t3993\n",
            "48 \t80    \t2189.73\t327.977\t2085\t3750\n",
            "49 \t74    \t2232.27\t401.959\t2085\t4266\n",
            "50 \t77    \t2255.32\t428.5  \t2085\t4291\n",
            "51 \t88    \t2219.06\t338.01 \t2085\t3770\n",
            "52 \t76    \t2147.42\t239.134\t2085\t3498\n",
            "53 \t81    \t2193.37\t286.083\t2085\t3424\n",
            "54 \t82    \t2202.26\t326.755\t2085\t3865\n",
            "55 \t81    \t2152.39\t232.657\t2085\t3453\n",
            "56 \t65    \t2170.14\t252.37 \t2085\t3452\n",
            "57 \t81    \t2273.8 \t410.564\t2085\t3743\n",
            "58 \t79    \t2297.52\t467.195\t2085\t4265\n",
            "59 \t71    \t2211.07\t347.564\t2085\t3881\n",
            "60 \t86    \t2207.48\t395.192\t2085\t4693\n",
            "61 \t71    \t2261.17\t399.101\t2085\t3634\n",
            "62 \t81    \t2268.95\t362.826\t2085\t3630\n",
            "63 \t69    \t2270.88\t446.11 \t2085\t4087\n",
            "64 \t78    \t2267.94\t399.785\t2085\t3900\n",
            "65 \t82    \t2231.6 \t337.798\t2085\t3453\n",
            "66 \t68    \t2180.42\t249.625\t2085\t3061\n",
            "67 \t82    \t2166.33\t263.619\t2085\t3609\n",
            "68 \t77    \t2247.5 \t385.891\t2085\t4023\n",
            "69 \t82    \t2209.52\t317.797\t2085\t3397\n",
            "70 \t82    \t2262.33\t370.756\t2085\t3677\n",
            "71 \t85    \t2310.17\t463.991\t2085\t4206\n",
            "72 \t82    \t2169.38\t254.494\t2085\t3616\n",
            "73 \t83    \t2301.34\t520.15 \t2085\t4785\n",
            "74 \t86    \t2264.77\t395.111\t2085\t3616\n",
            "75 \t84    \t2275.08\t422.735\t2085\t3895\n",
            "76 \t68    \t2226.83\t374.561\t2085\t3592\n",
            "77 \t72    \t2195   \t315.265\t2085\t3513\n",
            "78 \t84    \t2181.83\t284.722\t2085\t3543\n",
            "79 \t81    \t2212.82\t345.645\t2085\t3715\n",
            "80 \t85    \t2206.47\t334.394\t2085\t4093\n",
            "81 \t82    \t2245.08\t473.317\t2085\t4348\n",
            "82 \t86    \t2205.36\t377.024\t2085\t4439\n",
            "83 \t75    \t2223.41\t372.521\t2085\t4255\n",
            "84 \t77    \t2149.42\t220.634\t2085\t3452\n",
            "85 \t73    \t2211.49\t356.148\t2085\t3650\n",
            "86 \t74    \t2225.78\t348.903\t2085\t3650\n",
            "87 \t77    \t2249.25\t408.62 \t2085\t4130\n",
            "88 \t70    \t2179.83\t313.285\t2085\t3910\n",
            "89 \t91    \t2239.09\t412.258\t2085\t4005\n",
            "90 \t82    \t2271.83\t418.472\t2085\t3865\n",
            "91 \t77    \t2220.02\t342.787\t2085\t4093\n",
            "92 \t70    \t2203.88\t387.567\t2085\t4049\n",
            "93 \t85    \t2239.16\t400.461\t2085\t3947\n",
            "94 \t80    \t2351.6 \t533.664\t2085\t4374\n",
            "95 \t87    \t2236.39\t351.448\t2085\t3637\n",
            "96 \t71    \t2221.39\t330.066\t2085\t3609\n",
            "97 \t76    \t2216.39\t366.564\t2085\t4010\n",
            "98 \t81    \t2183.69\t301.003\t2085\t3560\n",
            "99 \t83    \t2207.56\t355.173\t2085\t3949\n",
            "100\t76    \t2200.41\t326.854\t2085\t3929\n",
            "101\t79    \t2261.02\t377.632\t2085\t3549\n",
            "102\t80    \t2253.14\t373.997\t2085\t3643\n",
            "103\t74    \t2182.79\t253.045\t2085\t3181\n",
            "104\t81    \t2212.97\t434.754\t2085\t4555\n",
            "105\t84    \t2259.41\t442.732\t2085\t4076\n",
            "106\t82    \t2226.9 \t393.269\t2085\t3944\n",
            "107\t70    \t2191.36\t321.514\t2085\t3921\n",
            "108\t79    \t2166.59\t246.307\t2085\t3363\n",
            "109\t78    \t2207.86\t314.231\t2085\t3842\n",
            "110\t77    \t2254.64\t444.264\t2085\t4903\n",
            "111\t73    \t2181.38\t310.917\t2085\t3497\n",
            "112\t82    \t2254.36\t395.528\t2085\t3988\n",
            "113\t77    \t2240.17\t402.153\t2085\t4250\n",
            "114\t81    \t2164.68\t256.867\t2085\t3560\n",
            "115\t79    \t2181.61\t316.636\t2085\t3753\n",
            "116\t74    \t2203.06\t346.19 \t2085\t3718\n",
            "117\t76    \t2211.55\t314.236\t2085\t3586\n",
            "118\t77    \t2215.1 \t344.101\t2085\t3609\n",
            "119\t76    \t2261.05\t425.997\t2085\t4275\n",
            "120\t84    \t2213.17\t357.463\t2085\t4261\n",
            "Mejor fitness: 2085.000000\n",
            "Mejor individuo [13, 14, 2, 10, 9, 1, 4, 8, 11, 15, 0, 3, 12, 6, 7, 5, 16]\n"
          ],
          "name": "stdout"
        },
        {
          "output_type": "stream",
          "text": [
            "/usr/local/lib/python3.6/dist-packages/ipykernel_launcher.py:13: MatplotlibDeprecationWarning: The parameter where must have the same size as x in fill_between(). This will become an error in future versions of Matplotlib.\n",
            "  del sys.path[0]\n",
            "The PostScript backend does not support transparency; partially transparent artists will be rendered opaque.\n",
            "The PostScript backend does not support transparency; partially transparent artists will be rendered opaque.\n",
            "The PostScript backend does not support transparency; partially transparent artists will be rendered opaque.\n"
          ],
          "name": "stderr"
        },
        {
          "output_type": "display_data",
          "data": {
            "image/png": "[encoded data removed]",
            "text/plain": [
              "<Figure size 432x288 with 1 Axes>"
            ]
          },
          "metadata": {
            "tags": [],
            "needs_background": "light"
          }
        }
      ]
    }
  ]
}