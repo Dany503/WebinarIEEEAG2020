{
  "nbformat": 4,
  "nbformat_minor": 0,
  "metadata": {
    "colab": {
      "name": "IEEEWebinarConjuntos.ipynb",
      "provenance": []
    },
    "kernelspec": {
      "name": "python3",
      "display_name": "Python 3"
    }
  },
  "cells": [
    {
      "cell_type": "markdown",
      "metadata": {
        "id": "7JzEKc2-eP3e",
        "colab_type": "text"
      },
      "source": [
        "Resolución del problema **SUMA DE SUBCONJUTOS** utilizando deap\n",
        "https://deap.readthedocs.io/en/master/\n",
        "\n",
        "En primer lugar, debemos intalar la librería:"
      ]
    },
    {
      "cell_type": "code",
      "metadata": {
        "id": "ZWlKUczNeklN",
        "colab_type": "code",
        "colab": {
          "base_uri": "https://localhost:8080/",
          "height": 118
        },
        "outputId": "5b7235de-77ae-4339-bffb-b13321ad63cb"
      },
      "source": [
        "!pip install deap"
      ],
      "execution_count": 2,
      "outputs": [
        {
          "output_type": "stream",
          "text": [
            "Collecting deap\n",
            "\u001b[?25l  Downloading https://files.pythonhosted.org/packages/0a/eb/2bd0a32e3ce757fb26264765abbaedd6d4d3640d90219a513aeabd08ee2b/deap-1.3.1-cp36-cp36m-manylinux2010_x86_64.whl (157kB)\n",
            "\r\u001b[K     |██                              | 10kB 21.0MB/s eta 0:00:01\r\u001b[K     |████▏                           | 20kB 1.7MB/s eta 0:00:01\r\u001b[K     |██████▎                         | 30kB 2.1MB/s eta 0:00:01\r\u001b[K     |████████▍                       | 40kB 2.4MB/s eta 0:00:01\r\u001b[K     |██████████▍                     | 51kB 2.0MB/s eta 0:00:01\r\u001b[K     |████████████▌                   | 61kB 2.3MB/s eta 0:00:01\r\u001b[K     |██████████████▋                 | 71kB 2.5MB/s eta 0:00:01\r\u001b[K     |████████████████▊               | 81kB 2.7MB/s eta 0:00:01\r\u001b[K     |██████████████████▊             | 92kB 2.9MB/s eta 0:00:01\r\u001b[K     |████████████████████▉           | 102kB 2.8MB/s eta 0:00:01\r\u001b[K     |███████████████████████         | 112kB 2.8MB/s eta 0:00:01\r\u001b[K     |█████████████████████████       | 122kB 2.8MB/s eta 0:00:01\r\u001b[K     |███████████████████████████▏    | 133kB 2.8MB/s eta 0:00:01\r\u001b[K     |█████████████████████████████▏  | 143kB 2.8MB/s eta 0:00:01\r\u001b[K     |███████████████████████████████▎| 153kB 2.8MB/s eta 0:00:01\r\u001b[K     |████████████████████████████████| 163kB 2.8MB/s \n",
            "\u001b[?25hRequirement already satisfied: numpy in /usr/local/lib/python3.6/dist-packages (from deap) (1.18.3)\n",
            "Installing collected packages: deap\n",
            "Successfully installed deap-1.3.1\n"
          ],
          "name": "stdout"
        }
      ]
    },
    {
      "cell_type": "markdown",
      "metadata": {
        "id": "76nmvDn-ep9a",
        "colab_type": "text"
      },
      "source": [
        "**Importamos las liberías necesarias:**\n",
        "1. random: números pseudoaleatorios\n",
        "2. numpy: arrays\n",
        "3. maplotlib.pyplot: visualizar los resultados\n",
        "4. deap.base: incluye las clases base de deap. En concreto dos son importantes en nuestro ejemplo, base.Fitness y base.Toolbox.\n",
        "5. deap.creator: permite crear clases nuevas.\n",
        "6. deap.tools: herramientas para implementar los algoritmos genéticos: operadores genéticos (selección, cruce y mutación), hallofFame, estadística, registro de evolución, etc.\n",
        "7. deap.alorihtms: incluye implementaciones completas de algoritmos genéticos, nosotros vamos a utilizar eaSimple."
      ]
    },
    {
      "cell_type": "code",
      "metadata": {
        "id": "y2c3pmdueE95",
        "colab_type": "code",
        "colab": {}
      },
      "source": [
        "import random\n",
        "import numpy as np\n",
        "import matplotlib.pyplot as plt    \n",
        "from deap import base\n",
        "from deap import creator\n",
        "from deap import tools\n",
        "from deap import algorithms"
      ],
      "execution_count": 0,
      "outputs": []
    },
    {
      "cell_type": "markdown",
      "metadata": {
        "id": "mdBFdnXoe2sv",
        "colab_type": "text"
      },
      "source": [
        "**Datos del problema**\n",
        "* LIMITE_INF y LIMITE_SUP: Límites de los valores del conjunto.\n",
        "* TAM_CONJUNTO: Número de elementos del conjunto.\n",
        "* SUMA_OBJETIVO: Suma objetivo del subconjunto seleccionado. \n",
        "* CONJUNTO: Array que contiene el conjunto de valores."
      ]
    },
    {
      "cell_type": "code",
      "metadata": {
        "id": "ZeQZf94Sezdf",
        "colab_type": "code",
        "colab": {
          "base_uri": "https://localhost:8080/",
          "height": 67
        },
        "outputId": "0d748ece-e76d-4ac6-fc43-9292f8a6621f"
      },
      "source": [
        "random.seed(42) # ajustamos aquí la semilla para que todos tengamos los mismos valores\n",
        "LIMITE_INF, LIMITE_SUP = 0, 30\n",
        "TAM_CONJUNTO = 30 \n",
        "SUMA_OBJETIVO = 333\n",
        "CONJUNTO = np.array(random.sample(range(LIMITE_INF, LIMITE_SUP), TAM_CONJUNTO))\n",
        "print(CONJUNTO)\n",
        "print(\"Valor máximo que puede tener SUMA_OBJETIVO\", sum(CONJUNTO)) "
      ],
      "execution_count": 29,
      "outputs": [
        {
          "output_type": "stream",
          "text": [
            "[20  3  0 23  8  7 24  4 28 17  2 18 13  1 27 16 21 29 25  9 15 11 12  5\n",
            "  6 22 26 10 14 19]\n",
            "Valor máximo que puede tener SUMA_OBJETIVO 435\n"
          ],
          "name": "stdout"
        }
      ]
    },
    {
      "cell_type": "markdown",
      "metadata": {
        "id": "WSLTeUoWgDMH",
        "colab_type": "text"
      },
      "source": [
        "Creamos la clase que define el fitness de los individuos **FitnessMulti**. Este paso en la mayoría de los problemas será muy parecido. Siempre tendremos que heredar de base.Fitness. El atributo **weights** nos dice el número de objetivos de nuestro problema y el tipo (-1.0 para minimizar y 1.0 para maximizar). En este caso es un problema de dos objetivos ambos de  **minimización**."
      ]
    },
    {
      "cell_type": "code",
      "metadata": {
        "id": "ySUDP_bygQVL",
        "colab_type": "code",
        "colab": {}
      },
      "source": [
        "creator.create(\"FitnessMulti\", base.Fitness, weights=(-1.0, -1.0)) "
      ],
      "execution_count": 0,
      "outputs": []
    },
    {
      "cell_type": "markdown",
      "metadata": {
        "id": "rYSAFYgUgTsY",
        "colab_type": "text"
      },
      "source": [
        "Ahora creamos la \"plantilla\" del individuo, el cromosoma. El individuo será una lista (hereda los métodos de la lista), pero tiene el atributo FitnessMulti creado en la línea anterior. Representar los individuos como lista nos servirá en una gran cantidad de casos (lista de variables del problema)."
      ]
    },
    {
      "cell_type": "code",
      "metadata": {
        "id": "7WPVObtFgXk5",
        "colab_type": "code",
        "colab": {}
      },
      "source": [
        "creator.create(\"Individual\", list, fitness=creator.FitnessMulti)"
      ],
      "execution_count": 0,
      "outputs": []
    },
    {
      "cell_type": "markdown",
      "metadata": {
        "id": "ZZPg08Y3gja4",
        "colab_type": "text"
      },
      "source": [
        "El objeto toolbox funciona como una \"caja de herramientas\" donde **debemos registrar operaciones que nos hacen falta en el algoritmo genético**. Cosas que debemos registrar:\n",
        "1. Funciones para crear tanto individuos aleatorios como la población inicial.\n",
        "2. Operadores genéticos (selección, cruce y mutación).\n",
        "3. La función de evaluación."
      ]
    },
    {
      "cell_type": "code",
      "metadata": {
        "id": "X7wHWTQBgibO",
        "colab_type": "code",
        "colab": {}
      },
      "source": [
        "toolbox = base.Toolbox()"
      ],
      "execution_count": 0,
      "outputs": []
    },
    {
      "cell_type": "markdown",
      "metadata": {
        "id": "A3At8LoKg7jD",
        "colab_type": "text"
      },
      "source": [
        "Comenzamos registrando las funciones que nos permiten generar individuos aleatorios y la población incial. Empezamos por muestra aleatorias de individuos (cromosoma). **No es el individuo completo ya que no tiene el  atributo fitness**.\n",
        "Utilizamos la función random.randint para generar números binarios https://docs.python.org/3/library/random.html"
      ]
    },
    {
      "cell_type": "code",
      "metadata": {
        "id": "wVDkjlwwg-zf",
        "colab_type": "code",
        "colab": {}
      },
      "source": [
        "def crea_individuo(size):\n",
        "    return [random.randint(0, 1) for i in range(size)]\n",
        "toolbox.register(\"attr\", crea_individuo, TAM_CONJUNTO)"
      ],
      "execution_count": 0,
      "outputs": []
    },
    {
      "cell_type": "markdown",
      "metadata": {
        "id": "3EWNXXo8hWqI",
        "colab_type": "text"
      },
      "source": [
        "Podemos ver la muestra que se crea:"
      ]
    },
    {
      "cell_type": "code",
      "metadata": {
        "id": "XwowH3EXhXvV",
        "colab_type": "code",
        "colab": {
          "base_uri": "https://localhost:8080/",
          "height": 34
        },
        "outputId": "e0fa876f-7236-4dbf-d5e4-2b54def14c42"
      },
      "source": [
        "print(toolbox.attr())"
      ],
      "execution_count": 14,
      "outputs": [
        {
          "output_type": "stream",
          "text": [
            "[0, 0, 1, 1, 1, 0, 0, 1, 0, 0, 1, 0, 1, 1, 1, 0, 1, 0, 1, 0, 1, 1, 0, 0, 0, 0, 1, 0, 0, 0]\n"
          ],
          "name": "stdout"
        }
      ]
    },
    {
      "cell_type": "markdown",
      "metadata": {
        "id": "tQl8L43mhjgJ",
        "colab_type": "text"
      },
      "source": [
        "Generamos individuos aleatorios y población inicial"
      ]
    },
    {
      "cell_type": "code",
      "metadata": {
        "id": "pnmBqt8Vhcwk",
        "colab_type": "code",
        "colab": {}
      },
      "source": [
        "toolbox.register(\"individual\", tools.initIterate, creator.Individual, toolbox.attr)\n",
        "toolbox.register(\"population\", tools.initRepeat, list, toolbox.individual)"
      ],
      "execution_count": 0,
      "outputs": []
    },
    {
      "cell_type": "markdown",
      "metadata": {
        "id": "Fa8s9kLjhwqO",
        "colab_type": "text"
      },
      "source": [
        "Vamos a ver cómo funcionan con un par de ejemplos:"
      ]
    },
    {
      "cell_type": "code",
      "metadata": {
        "id": "oY7Ummhzhvrc",
        "colab_type": "code",
        "colab": {
          "base_uri": "https://localhost:8080/",
          "height": 50
        },
        "outputId": "8d83cf69-58c6-41d6-fe16-4521d9bff78e"
      },
      "source": [
        "ind = toolbox. individual() # creamos un individuo aleatorio\n",
        "print(ind)\n",
        "print(ind.fitness.values) # en fitness.values se guardará el fitness"
      ],
      "execution_count": 17,
      "outputs": [
        {
          "output_type": "stream",
          "text": [
            "[1, 1, 1, 1, 0, 1, 1, 0, 1, 0, 0, 0, 0, 1, 1, 1, 0, 1, 0, 0, 0, 1, 1, 1, 0, 0, 1, 0, 1, 1]\n",
            "()\n"
          ],
          "name": "stdout"
        }
      ]
    },
    {
      "cell_type": "markdown",
      "metadata": {
        "id": "L0EC0XYdh22k",
        "colab_type": "text"
      },
      "source": [
        "**Definimos la función objetivo:**\n",
        "1.   Seleccionamos del conjunto original aquellas posiciones en las que individuo tiene un 1.\n",
        "2.   Sumamos los elementos seleccionados.\n",
        "3.   Calculamos la diferencia.\n",
        "4.   Calculamos el número de elementos.\n",
        "5.   Comprobamos las restricciones. Si no se cumplen, pena de muerte.\n",
        "6.   Devolvemos el fitness para cada objetivo.\n",
        "\n",
        "**IMPORTANTE:** Siempre debemos devolver una tupla!! \n",
        "\n",
        "**IMPORTANTE:** Si aplicamos la pena de muerte tiene que ser a los dos objetivos!!"
      ]
    },
    {
      "cell_type": "code",
      "metadata": {
        "id": "vETknOgzipkc",
        "colab_type": "code",
        "colab": {}
      },
      "source": [
        "def funcion_objetivo(individuo, suma_objetivo):\n",
        "    subconjunto = CONJUNTO[np.array(individuo) == 1]\n",
        "    suma_subconjunto = np.sum(subconjunto)\n",
        "    diferencia = suma_objetivo - suma_subconjunto\n",
        "    n_elementos = sum(individuo)\n",
        "    if diferencia < 0: # nos pasamos\n",
        "        return 10000, 10000 # pena de muerte    \n",
        "    if n_elementos == 0: # no se selecciona ninguna elemento\n",
        "        return 10000, 10000 # pena de muerte\n",
        "    return n_elementos, diferencia"
      ],
      "execution_count": 0,
      "outputs": []
    },
    {
      "cell_type": "markdown",
      "metadata": {
        "id": "QTWoZIpLhGUl",
        "colab_type": "text"
      },
      "source": [
        "**Registro de operadores genéticos:**\n",
        "\n",
        "1.   Cruce de dos puntos.\n",
        "2.   Mutación bitflip.\n",
        "3.   Selección mediante torneo, tamaño del torneo igual a 3 (suele ir bien para la mayoría de problemas). Si tenemos muchas variables podemos probar a aumentarlo un poco.\n",
        "4.   Función de evaluación."
      ]
    },
    {
      "cell_type": "code",
      "metadata": {
        "id": "zKxUN1kjjiSw",
        "colab_type": "code",
        "colab": {}
      },
      "source": [
        "toolbox.register(\"mate\", tools.cxTwoPoint) \n",
        "toolbox.register(\"mutate\", tools.mutFlipBit, indpb=0.05) \n",
        "toolbox.register(\"select\", tools.selNSGA2) \n",
        "toolbox.register(\"evaluate\", funcion_objetivo, suma_objetivo=SUMA_OBJETIVO) "
      ],
      "execution_count": 0,
      "outputs": []
    },
    {
      "cell_type": "markdown",
      "metadata": {
        "id": "Apk6JyZcj_z9",
        "colab_type": "text"
      },
      "source": [
        "Función para representar el **frente de Pareto**."
      ]
    },
    {
      "cell_type": "code",
      "metadata": {
        "id": "DUTvZbKNkFfy",
        "colab_type": "code",
        "colab": {}
      },
      "source": [
        "def plot_frente(pareto):\n",
        "    lista_fitness1 = list()\n",
        "    lista_fitness2 = list()\n",
        "    for ind in pareto: # recorremos los elementos del Pareto\n",
        "        lista_fitness1.append(ind.fitness.values[0])\n",
        "        lista_fitness2.append(ind.fitness.values[1])    \n",
        "    plt.scatter(lista_fitness1, lista_fitness2, marker=\"+\", color=\"b\", s=50)    \n",
        "    plt.xlabel(\"Elementos\")\n",
        "    plt.ylabel(\"Diferencias\")\n",
        "    plt.grid(True)\n",
        "    plt.xlim([0, 17])\n",
        "    plt.ylim([-20, 350])\n",
        "    plt.legend([\"Frente de Pareto\"], loc=\"upper right\")\n",
        "    plt.savefig(\"Pareto_conjunto.eps\", dpi = 300)"
      ],
      "execution_count": 0,
      "outputs": []
    },
    {
      "cell_type": "markdown",
      "metadata": {
        "id": "G8aV-kBDkQjO",
        "colab_type": "text"
      },
      "source": [
        "En el main configuramos el algoritmo genético. \n",
        "\n",
        "Ajuste de los operadores genéticos:\n",
        "* *CXPB:* probabilidad de cruce\n",
        "* *MUTPB:* probabilidad de mutación\n",
        "\n",
        "Número de generaciones:\n",
        "* *NGEN:* número de generaciones\n",
        "\n",
        "El objeto **hof** almacena el mejor individuo encontrado a lo largo de las generaciones. Le tenemos que p\n",
        "\n",
        "El objeto **stats** calcula las estadísticas de la población en cada generación. Cuando se define le tenemos que decir sobre qué se va a calcular las estadística. A continuación, se deben registrar las funciones estadísticas que se van a aplicar.\n",
        "\n",
        "El objeto **logbook** almacena todas las estadísticas calculadas por generación en un solo objeto.\n",
        "\n",
        "Algoritmo **eaMuPlusLambda** parámetros que tenemos que pasar:\n",
        "* poblacion (obligatorio)\n",
        "* toolbox (obligatorio)\n",
        "* mu, número de inviduos de la población (obligatorio)\n",
        "* lambda, número de individuos a seleccionar para pasar la siguiente generación. Si no queremos que la población cambie de tamaño mu=lamnda. (obligatorio)\n",
        "* probabilidad de cruce (obligatorio)\n",
        "* probabilidad de mutación (obligatorio)\n",
        "* número de generaciones (obligatorio)\n",
        "* objeto de estadísticas (opcional)\n",
        "* objeto hallofFame que almacena el mejor individuo (opcional)\n",
        "* Si queremos que se muestre las estádisticas en cada generación, verbose = True (opcional)"
      ]
    },
    {
      "cell_type": "code",
      "metadata": {
        "id": "CUFQgcfskaZt",
        "colab_type": "code",
        "colab": {}
      },
      "source": [
        "def main():\n",
        "    CXPB, MUTPB, NGEN = 0.7, 0.3, 200\n",
        "    MU, LAMBDA = 300, 300\n",
        "    pop = toolbox.population(MU)\n",
        "    stats = tools.Statistics(lambda ind: ind.fitness.values)\n",
        "    stats.register(\"avg\", np.mean)\n",
        "    stats.register(\"std\", np.std)\n",
        "    stats.register(\"min\", np.min)\n",
        "    stats.register(\"max\", np.max)\n",
        "    logbook = tools.Logbook()  \n",
        "    pareto = tools.ParetoFront() \n",
        "    pop, logbook = algorithms.eaMuPlusLambda(pop , toolbox , mu=MU, lambda_=LAMBDA, cxpb=CXPB, mutpb=MUTPB, ngen=NGEN, stats=stats, halloffame=pareto,  verbose=True)\n",
        "    return pop, logbook, pareto"
      ],
      "execution_count": 0,
      "outputs": []
    },
    {
      "cell_type": "markdown",
      "metadata": {
        "id": "e85BwTAdkp_S",
        "colab_type": "text"
      },
      "source": [
        "Lanzamos el algoritmo y mostramos los resultados."
      ]
    },
    {
      "cell_type": "code",
      "metadata": {
        "id": "OYAcQNEEkq5B",
        "colab_type": "code",
        "colab": {
          "base_uri": "https://localhost:8080/",
          "height": 1000
        },
        "outputId": "ff9781a9-491c-4a39-a551-0426478ddb7d"
      },
      "source": [
        "if __name__ == \"__main__\":    \n",
        "    pop, log, pareto = main()\n",
        "    plot_frente(pareto)"
      ],
      "execution_count": 31,
      "outputs": [
        {
          "output_type": "stream",
          "text": [
            "gen\tnevals\tavg    \tstd    \tmin\tmax  \n",
            "0  \t300   \t130.763\t810.686\t3  \t10000\n",
            "1  \t300   \t59.3583\t59.5023\t1  \t250  \n",
            "2  \t300   \t56.2517\t59.9544\t1  \t258  \n",
            "3  \t300   \t54.3833\t62.8947\t1  \t258  \n",
            "4  \t300   \t48.205 \t58.7115\t0  \t253  \n",
            "5  \t300   \t50.005 \t63.1836\t0  \t269  \n",
            "6  \t300   \t46.055 \t61.0986\t0  \t269  \n",
            "7  \t300   \t44.3417\t61.1715\t0  \t269  \n",
            "8  \t300   \t44.7017\t62.8203\t0  \t284  \n",
            "9  \t300   \t42.49  \t61.3017\t0  \t284  \n",
            "10 \t300   \t42.1733\t61.6398\t0  \t284  \n",
            "11 \t300   \t39.3867\t59.8779\t0  \t284  \n",
            "12 \t300   \t36.1367\t57.8804\t0  \t284  \n",
            "13 \t300   \t37.825 \t61.8125\t0  \t284  \n",
            "14 \t300   \t35.6067\t58.5265\t0  \t284  \n",
            "15 \t300   \t36.075 \t60.4806\t0  \t298  \n",
            "16 \t300   \t36.7367\t61.7422\t0  \t298  \n",
            "17 \t300   \t30.32  \t54.4774\t0  \t298  \n",
            "18 \t300   \t35.2067\t58.9851\t0  \t298  \n",
            "19 \t300   \t34.2767\t59.4664\t0  \t298  \n",
            "20 \t300   \t30.8883\t52.9643\t0  \t298  \n",
            "21 \t300   \t32.7917\t53.8045\t0  \t298  \n",
            "22 \t300   \t35.5567\t53.4055\t0  \t298  \n",
            "23 \t300   \t34.055 \t50.4115\t0  \t318  \n",
            "24 \t300   \t31.915 \t48.6029\t0  \t318  \n",
            "25 \t300   \t31.4633\t40.7375\t0  \t318  \n",
            "26 \t300   \t38.65  \t44.2944\t0  \t318  \n",
            "27 \t300   \t42.165 \t48.2528\t0  \t318  \n",
            "28 \t300   \t44.1933\t51.795 \t0  \t318  \n",
            "29 \t300   \t43.6067\t53.266 \t0  \t318  \n",
            "30 \t300   \t41.7483\t55.2614\t0  \t318  \n",
            "31 \t300   \t38.825 \t57.2022\t0  \t318  \n",
            "32 \t300   \t32.6617\t55.5527\t0  \t310  \n",
            "33 \t300   \t23.0267\t47.695 \t0  \t310  \n",
            "34 \t300   \t13.4733\t32.96  \t0  \t310  \n",
            "35 \t300   \t14.1417\t34.8927\t0  \t310  \n",
            "36 \t300   \t14.1417\t34.8927\t0  \t310  \n",
            "37 \t300   \t14.1417\t34.8927\t0  \t310  \n",
            "38 \t300   \t14.1417\t34.8927\t0  \t310  \n",
            "39 \t300   \t14.1417\t34.8927\t0  \t310  \n",
            "40 \t300   \t14.1417\t34.8927\t0  \t310  \n",
            "41 \t300   \t14.1417\t34.8927\t0  \t310  \n",
            "42 \t300   \t14.5867\t36.5499\t0  \t310  \n",
            "43 \t300   \t14.5867\t36.5499\t0  \t310  \n",
            "44 \t300   \t14.5867\t36.5499\t0  \t310  \n",
            "45 \t300   \t14.5867\t36.5499\t0  \t310  \n",
            "46 \t300   \t14.5867\t36.5499\t0  \t310  \n",
            "47 \t300   \t14.1767\t35.1615\t0  \t310  \n",
            "48 \t300   \t14.5767\t36.4842\t0  \t310  \n",
            "49 \t300   \t14.5767\t36.4842\t0  \t310  \n",
            "50 \t300   \t14.5767\t36.4842\t0  \t310  \n",
            "51 \t300   \t14.5767\t36.4842\t0  \t310  \n",
            "52 \t300   \t14.5767\t36.4842\t0  \t310  \n",
            "53 \t300   \t14.5767\t36.4842\t0  \t310  \n",
            "54 \t300   \t14.5767\t36.4842\t0  \t310  \n",
            "55 \t300   \t14.5767\t36.4842\t0  \t310  \n",
            "56 \t300   \t14.075 \t34.3452\t0  \t304  \n",
            "57 \t300   \t14.075 \t34.3452\t0  \t304  \n",
            "58 \t300   \t14.1533\t34.9718\t0  \t304  \n",
            "59 \t300   \t14.1533\t34.9718\t0  \t304  \n",
            "60 \t300   \t14.1533\t34.9718\t0  \t304  \n",
            "61 \t300   \t14.1533\t34.9718\t0  \t304  \n",
            "62 \t300   \t14.1533\t34.9718\t0  \t304  \n",
            "63 \t300   \t14.1533\t34.9718\t0  \t304  \n",
            "64 \t300   \t14.1533\t34.9718\t0  \t304  \n",
            "65 \t300   \t14.1533\t34.9718\t0  \t304  \n",
            "66 \t300   \t14.1533\t34.9718\t0  \t304  \n",
            "67 \t300   \t14.1533\t34.9718\t0  \t304  \n",
            "68 \t300   \t14.1533\t34.9718\t0  \t304  \n",
            "69 \t300   \t14.1533\t34.9718\t0  \t304  \n",
            "70 \t300   \t14.1533\t34.9718\t0  \t304  \n",
            "71 \t300   \t14.1533\t34.9718\t0  \t304  \n",
            "72 \t300   \t14.1533\t34.9718\t0  \t304  \n",
            "73 \t300   \t14.1533\t34.9718\t0  \t304  \n",
            "74 \t300   \t14.1533\t34.9718\t0  \t304  \n",
            "75 \t300   \t13.8383\t34.1404\t0  \t304  \n",
            "76 \t300   \t14.15  \t34.9543\t0  \t304  \n",
            "77 \t300   \t14.15  \t34.9543\t0  \t304  \n",
            "78 \t300   \t14.15  \t34.9543\t0  \t304  \n",
            "79 \t300   \t14.15  \t34.9543\t0  \t304  \n",
            "80 \t300   \t14.15  \t34.9543\t0  \t304  \n",
            "81 \t300   \t14.15  \t34.9543\t0  \t304  \n",
            "82 \t300   \t14.15  \t34.9543\t0  \t304  \n",
            "83 \t300   \t14.15  \t34.9543\t0  \t304  \n",
            "84 \t300   \t14.5467\t36.263 \t0  \t304  \n",
            "85 \t300   \t14.5467\t36.263 \t0  \t304  \n",
            "86 \t300   \t14.5467\t36.263 \t0  \t304  \n",
            "87 \t300   \t14.5467\t36.263 \t0  \t304  \n",
            "88 \t300   \t14.1   \t34.5787\t0  \t304  \n",
            "89 \t300   \t14.1   \t34.5787\t0  \t304  \n",
            "90 \t300   \t14.5433\t36.2386\t0  \t304  \n",
            "91 \t300   \t14.5433\t36.2386\t0  \t304  \n",
            "92 \t300   \t14.0933\t34.5278\t0  \t304  \n",
            "93 \t300   \t14.0933\t34.5278\t0  \t304  \n",
            "94 \t300   \t14.0933\t34.5278\t0  \t304  \n",
            "95 \t300   \t14.0933\t34.5278\t0  \t304  \n",
            "96 \t300   \t14.0933\t34.5278\t0  \t304  \n",
            "97 \t300   \t14.0933\t34.5278\t0  \t304  \n",
            "98 \t300   \t14.0933\t34.5278\t0  \t304  \n",
            "99 \t300   \t13.7367\t33.4271\t0  \t304  \n",
            "100\t300   \t14.1733\t35.0959\t0  \t304  \n",
            "101\t300   \t14.1733\t35.0959\t0  \t304  \n",
            "102\t300   \t14.1733\t35.0959\t0  \t304  \n",
            "103\t300   \t14.1733\t35.0959\t0  \t304  \n",
            "104\t300   \t14.1733\t35.0959\t0  \t304  \n",
            "105\t300   \t14.1733\t35.0959\t0  \t304  \n",
            "106\t300   \t14.1733\t35.0959\t0  \t304  \n",
            "107\t300   \t14.1733\t35.0959\t0  \t304  \n",
            "108\t300   \t14.1733\t35.0959\t0  \t304  \n",
            "109\t300   \t14.5267\t36.1221\t0  \t304  \n",
            "110\t300   \t14.5267\t36.1221\t0  \t304  \n",
            "111\t300   \t14.5267\t36.1221\t0  \t304  \n",
            "112\t300   \t14.5267\t36.1221\t0  \t304  \n",
            "113\t300   \t14.5267\t36.1221\t0  \t304  \n",
            "114\t300   \t14.5267\t36.1221\t0  \t304  \n",
            "115\t300   \t14.1283\t34.7965\t0  \t304  \n",
            "116\t300   \t14.1283\t34.7965\t0  \t304  \n",
            "117\t300   \t14.1283\t34.7965\t0  \t304  \n",
            "118\t300   \t14.1283\t34.7965\t0  \t304  \n",
            "119\t300   \t14.5233\t36.1004\t0  \t304  \n",
            "120\t300   \t14.5233\t36.1004\t0  \t304  \n",
            "121\t300   \t14.1683\t35.0635\t0  \t304  \n",
            "122\t300   \t14.1683\t35.0635\t0  \t304  \n",
            "123\t300   \t14.1683\t35.0635\t0  \t304  \n",
            "124\t300   \t14.1683\t35.0635\t0  \t304  \n",
            "125\t300   \t14.1683\t35.0635\t0  \t304  \n",
            "126\t300   \t14.52  \t36.0811\t0  \t304  \n",
            "127\t300   \t14.52  \t36.0811\t0  \t304  \n",
            "128\t300   \t14.52  \t36.0811\t0  \t304  \n",
            "129\t300   \t14.52  \t36.0811\t0  \t304  \n",
            "130\t300   \t14.52  \t36.0811\t0  \t304  \n",
            "131\t300   \t14.52  \t36.0811\t0  \t304  \n",
            "132\t300   \t14.52  \t36.0811\t0  \t304  \n",
            "133\t300   \t14.52  \t36.0811\t0  \t304  \n",
            "134\t300   \t14.52  \t36.0811\t0  \t304  \n",
            "135\t300   \t14.52  \t36.0811\t0  \t304  \n",
            "136\t300   \t14.52  \t36.0811\t0  \t304  \n",
            "137\t300   \t14.52  \t36.0811\t0  \t304  \n",
            "138\t300   \t14.52  \t36.0811\t0  \t304  \n",
            "139\t300   \t14.1233\t34.7652\t0  \t304  \n",
            "140\t300   \t14.5167\t36.0593\t0  \t304  \n",
            "141\t300   \t14.5167\t36.0593\t0  \t304  \n",
            "142\t300   \t14.5167\t36.0593\t0  \t304  \n",
            "143\t300   \t14.5167\t36.0593\t0  \t304  \n",
            "144\t300   \t14.5167\t36.0593\t0  \t304  \n",
            "145\t300   \t14.5167\t36.0593\t0  \t304  \n",
            "146\t300   \t14.5167\t36.0593\t0  \t304  \n",
            "147\t300   \t14.5167\t36.0593\t0  \t304  \n",
            "148\t300   \t14.5167\t36.0593\t0  \t304  \n",
            "149\t300   \t14.5167\t36.0593\t0  \t304  \n",
            "150\t300   \t14.5167\t36.0593\t0  \t304  \n",
            "151\t300   \t14.5167\t36.0593\t0  \t304  \n",
            "152\t300   \t14.5167\t36.0593\t0  \t304  \n",
            "153\t300   \t14.5167\t36.0593\t0  \t304  \n",
            "154\t300   \t14.5167\t36.0593\t0  \t304  \n",
            "155\t300   \t14.5167\t36.0593\t0  \t304  \n",
            "156\t300   \t14.5167\t36.0593\t0  \t304  \n",
            "157\t300   \t14.5167\t36.0593\t0  \t304  \n",
            "158\t300   \t14.5167\t36.0593\t0  \t304  \n",
            "159\t300   \t14.5167\t36.0593\t0  \t304  \n",
            "160\t300   \t14.5167\t36.0593\t0  \t304  \n",
            "161\t300   \t14.5167\t36.0593\t0  \t304  \n",
            "162\t300   \t14.5167\t36.0593\t0  \t304  \n",
            "163\t300   \t14.5167\t36.0593\t0  \t304  \n",
            "164\t300   \t14.5167\t36.0593\t0  \t304  \n",
            "165\t300   \t14.5167\t36.0593\t0  \t304  \n",
            "166\t300   \t14.5167\t36.0593\t0  \t304  \n",
            "167\t300   \t14.5167\t36.0593\t0  \t304  \n",
            "168\t300   \t14.5167\t36.0593\t0  \t304  \n",
            "169\t300   \t14.5167\t36.0593\t0  \t304  \n",
            "170\t300   \t14.5167\t36.0593\t0  \t304  \n",
            "171\t300   \t14.5167\t36.0593\t0  \t304  \n",
            "172\t300   \t14.5167\t36.0593\t0  \t304  \n",
            "173\t300   \t14.5167\t36.0593\t0  \t304  \n",
            "174\t300   \t14.5167\t36.0593\t0  \t304  \n",
            "175\t300   \t14.5167\t36.0593\t0  \t304  \n",
            "176\t300   \t14.5167\t36.0593\t0  \t304  \n",
            "177\t300   \t14.5167\t36.0593\t0  \t304  \n",
            "178\t300   \t14.5167\t36.0593\t0  \t304  \n",
            "179\t300   \t14.5167\t36.0593\t0  \t304  \n",
            "180\t300   \t14.5167\t36.0593\t0  \t304  \n",
            "181\t300   \t14.5167\t36.0593\t0  \t304  \n",
            "182\t300   \t14.5167\t36.0593\t0  \t304  \n",
            "183\t300   \t14.5167\t36.0593\t0  \t304  \n",
            "184\t300   \t14.5167\t36.0593\t0  \t304  \n",
            "185\t300   \t14.5167\t36.0593\t0  \t304  \n",
            "186\t300   \t14.5167\t36.0593\t0  \t304  \n",
            "187\t300   \t14.5167\t36.0593\t0  \t304  \n",
            "188\t300   \t14.5167\t36.0593\t0  \t304  \n",
            "189\t300   \t14.5167\t36.0593\t0  \t304  \n",
            "190\t300   \t14.5167\t36.0593\t0  \t304  \n",
            "191\t300   \t14.5167\t36.0593\t0  \t304  \n",
            "192\t300   \t14.5167\t36.0593\t0  \t304  \n",
            "193\t300   \t14.5167\t36.0593\t0  \t304  \n",
            "194\t300   \t14.5167\t36.0593\t0  \t304  \n",
            "195\t300   \t14.5167\t36.0593\t0  \t304  \n",
            "196\t300   \t14.5167\t36.0593\t0  \t304  \n",
            "197\t300   \t14.5167\t36.0593\t0  \t304  \n",
            "198\t300   \t14.5167\t36.0593\t0  \t304  \n"
          ],
          "name": "stdout"
        },
        {
          "output_type": "stream",
          "text": [
            "The PostScript backend does not support transparency; partially transparent artists will be rendered opaque.\n",
            "The PostScript backend does not support transparency; partially transparent artists will be rendered opaque.\n"
          ],
          "name": "stderr"
        },
        {
          "output_type": "stream",
          "text": [
            "199\t300   \t14.5167\t36.0593\t0  \t304  \n",
            "200\t300   \t14.5167\t36.0593\t0  \t304  \n"
          ],
          "name": "stdout"
        },
        {
          "output_type": "display_data",
          "data": {
            "image/png": "[encoded data removed]",
            "text/plain": [
              "<Figure size 432x288 with 1 Axes>"
            ]
          },
          "metadata": {
            "tags": [],
            "needs_background": "light"
          }
        }
      ]
    }
  ]
}